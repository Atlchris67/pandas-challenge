{
 "cells": [
  {
   "cell_type": "code",
   "execution_count": 1,
   "metadata": {},
   "outputs": [
    {
     "data": {
      "text/html": [
       "<div>\n",
       "<style scoped>\n",
       "    .dataframe tbody tr th:only-of-type {\n",
       "        vertical-align: middle;\n",
       "    }\n",
       "\n",
       "    .dataframe tbody tr th {\n",
       "        vertical-align: top;\n",
       "    }\n",
       "\n",
       "    .dataframe thead th {\n",
       "        text-align: right;\n",
       "    }\n",
       "</style>\n",
       "<table border=\"1\" class=\"dataframe\">\n",
       "  <thead>\n",
       "    <tr style=\"text-align: right;\">\n",
       "      <th></th>\n",
       "      <th>Purchase ID</th>\n",
       "      <th>SN</th>\n",
       "      <th>Age</th>\n",
       "      <th>Gender</th>\n",
       "      <th>Item ID</th>\n",
       "      <th>Item Name</th>\n",
       "      <th>Price</th>\n",
       "    </tr>\n",
       "  </thead>\n",
       "  <tbody>\n",
       "    <tr>\n",
       "      <th>0</th>\n",
       "      <td>0</td>\n",
       "      <td>Lisim78</td>\n",
       "      <td>20</td>\n",
       "      <td>Male</td>\n",
       "      <td>108</td>\n",
       "      <td>Extraction, Quickblade Of Trembling Hands</td>\n",
       "      <td>3.53</td>\n",
       "    </tr>\n",
       "    <tr>\n",
       "      <th>1</th>\n",
       "      <td>1</td>\n",
       "      <td>Lisovynya38</td>\n",
       "      <td>40</td>\n",
       "      <td>Male</td>\n",
       "      <td>143</td>\n",
       "      <td>Frenzied Scimitar</td>\n",
       "      <td>1.56</td>\n",
       "    </tr>\n",
       "    <tr>\n",
       "      <th>2</th>\n",
       "      <td>2</td>\n",
       "      <td>Ithergue48</td>\n",
       "      <td>24</td>\n",
       "      <td>Male</td>\n",
       "      <td>92</td>\n",
       "      <td>Final Critic</td>\n",
       "      <td>4.88</td>\n",
       "    </tr>\n",
       "    <tr>\n",
       "      <th>3</th>\n",
       "      <td>3</td>\n",
       "      <td>Chamassasya86</td>\n",
       "      <td>24</td>\n",
       "      <td>Male</td>\n",
       "      <td>100</td>\n",
       "      <td>Blindscythe</td>\n",
       "      <td>3.27</td>\n",
       "    </tr>\n",
       "    <tr>\n",
       "      <th>4</th>\n",
       "      <td>4</td>\n",
       "      <td>Iskosia90</td>\n",
       "      <td>23</td>\n",
       "      <td>Male</td>\n",
       "      <td>131</td>\n",
       "      <td>Fury</td>\n",
       "      <td>1.44</td>\n",
       "    </tr>\n",
       "  </tbody>\n",
       "</table>\n",
       "</div>"
      ],
      "text/plain": [
       "   Purchase ID             SN  Age Gender  Item ID  \\\n",
       "0            0        Lisim78   20   Male      108   \n",
       "1            1    Lisovynya38   40   Male      143   \n",
       "2            2     Ithergue48   24   Male       92   \n",
       "3            3  Chamassasya86   24   Male      100   \n",
       "4            4      Iskosia90   23   Male      131   \n",
       "\n",
       "                                   Item Name  Price  \n",
       "0  Extraction, Quickblade Of Trembling Hands   3.53  \n",
       "1                          Frenzied Scimitar   1.56  \n",
       "2                               Final Critic   4.88  \n",
       "3                                Blindscythe   3.27  \n",
       "4                                       Fury   1.44  "
      ]
     },
     "execution_count": 1,
     "metadata": {},
     "output_type": "execute_result"
    }
   ],
   "source": [
    "# Dependencies and Setup\n",
    "import pandas as pd\n",
    "from IPython.display import HTML\n",
    "\n",
    "styles = [\n",
    "    dict(selector=\"th\", props=[(\"font-size\", \"150%\"),\n",
    "                               (\"text-align\", \"center\")]),\n",
    "    dict(selector=\"caption\", props=[(\"caption-side\", \"bottom\")])\n",
    "]\n",
    "\n",
    "# File to Load (Remember to Change These)\n",
    "file_to_load = \"Resources/purchase_data.csv\"\n",
    "\n",
    "styles = [\n",
    "    dict(selector=\"th\", props=[(\"font-size\", \"150%\"),\n",
    "                               (\"text-align\", \"center\")]),\n",
    "    dict(selector=\"caption\", props=[(\"caption-side\", \"bottom\")])\n",
    "]\n",
    "\n",
    "# Read Purchasing File and store into Pandas data frame\n",
    "purchase_data = pd.read_csv(file_to_load)\n",
    "purchase_data.head()"
   ]
  },
  {
   "cell_type": "markdown",
   "metadata": {},
   "source": [
    "## Player Count\n",
    "Display the total number of players"
   ]
  },
  {
   "cell_type": "code",
   "execution_count": 2,
   "metadata": {},
   "outputs": [
    {
     "data": {
      "text/html": [
       "<style  type=\"text/css\" >\n",
       "    #T_af3ff3b4_1ebe_11ea_b61a_144f8aa851c8 th {\n",
       "          font-size: 150%;\n",
       "          text-align: center;\n",
       "    }    #T_af3ff3b4_1ebe_11ea_b61a_144f8aa851c8 caption {\n",
       "          caption-side: bottom;\n",
       "    }</style><table id=\"T_af3ff3b4_1ebe_11ea_b61a_144f8aa851c8\" ><thead>    <tr>        <th class=\"col_heading level0 col0\" >Total Players</th>    </tr></thead><tbody>\n",
       "                <tr>\n",
       "                                <td id=\"T_af3ff3b4_1ebe_11ea_b61a_144f8aa851c8row0_col0\" class=\"data row0 col0\" >576</td>\n",
       "            </tr>\n",
       "    </tbody></table>"
      ],
      "text/plain": [
       "<pandas.io.formats.style.Styler at 0x2839ff9bb38>"
      ]
     },
     "execution_count": 2,
     "metadata": {},
     "output_type": "execute_result"
    }
   ],
   "source": [
    "totalPlayers = len(purchase_data['SN'].unique())\n",
    "playerCount = {'Total Players': [len(purchase_data['SN'].unique())]}\n",
    "\n",
    "\n",
    "playerCount_df = pd.DataFrame(data=playerCount)\n",
    "html = (playerCount_df.style.hide_index().set_table_styles(styles))\n",
    "html\n",
    "\n"
   ]
  },
  {
   "cell_type": "code",
   "execution_count": 6,
   "metadata": {},
   "outputs": [
    {
     "data": {
      "text/html": [
       "<div>\n",
       "<style scoped>\n",
       "    .dataframe tbody tr th:only-of-type {\n",
       "        vertical-align: middle;\n",
       "    }\n",
       "\n",
       "    .dataframe tbody tr th {\n",
       "        vertical-align: top;\n",
       "    }\n",
       "\n",
       "    .dataframe thead th {\n",
       "        text-align: right;\n",
       "    }\n",
       "</style>\n",
       "<table border=\"1\" class=\"dataframe\">\n",
       "  <thead>\n",
       "    <tr style=\"text-align: right;\">\n",
       "      <th></th>\n",
       "      <th>Item ID</th>\n",
       "      <th>Item Name</th>\n",
       "      <th>Price</th>\n",
       "    </tr>\n",
       "  </thead>\n",
       "  <tbody>\n",
       "    <tr>\n",
       "      <th>0</th>\n",
       "      <td>108</td>\n",
       "      <td>Extraction, Quickblade Of Trembling Hands</td>\n",
       "      <td>3.53</td>\n",
       "    </tr>\n",
       "    <tr>\n",
       "      <th>1</th>\n",
       "      <td>143</td>\n",
       "      <td>Frenzied Scimitar</td>\n",
       "      <td>1.56</td>\n",
       "    </tr>\n",
       "    <tr>\n",
       "      <th>2</th>\n",
       "      <td>92</td>\n",
       "      <td>Final Critic</td>\n",
       "      <td>4.88</td>\n",
       "    </tr>\n",
       "    <tr>\n",
       "      <th>3</th>\n",
       "      <td>100</td>\n",
       "      <td>Blindscythe</td>\n",
       "      <td>3.27</td>\n",
       "    </tr>\n",
       "    <tr>\n",
       "      <th>4</th>\n",
       "      <td>131</td>\n",
       "      <td>Fury</td>\n",
       "      <td>1.44</td>\n",
       "    </tr>\n",
       "  </tbody>\n",
       "</table>\n",
       "</div>"
      ],
      "text/plain": [
       "   Item ID                                  Item Name  Price\n",
       "0      108  Extraction, Quickblade Of Trembling Hands   3.53\n",
       "1      143                          Frenzied Scimitar   1.56\n",
       "2       92                               Final Critic   4.88\n",
       "3      100                                Blindscythe   3.27\n",
       "4      131                                       Fury   1.44"
      ]
     },
     "execution_count": 6,
     "metadata": {},
     "output_type": "execute_result"
    }
   ],
   "source": [
    "#Retrieve the Item ID, Item Name, and Item Price columns\n",
    "item_sales_df = purchase_data[[\"Item ID\", \"Item Name\", \"Price\"]]\n",
    "item_sales_df.head()"
   ]
  },
  {
   "cell_type": "code",
   "execution_count": 7,
   "metadata": {},
   "outputs": [
    {
     "data": {
      "text/html": [
       "<style  type=\"text/css\" >\n",
       "    #T_eada4694_1ebe_11ea_9d21_144f8aa851c8 th {\n",
       "          font-size: 150%;\n",
       "          text-align: center;\n",
       "    }    #T_eada4694_1ebe_11ea_9d21_144f8aa851c8 caption {\n",
       "          caption-side: bottom;\n",
       "    }</style><table id=\"T_eada4694_1ebe_11ea_9d21_144f8aa851c8\" ><thead>    <tr>        <th class=\"col_heading level0 col0\" >Number of Unique Items</th>        <th class=\"col_heading level0 col1\" >Average Price</th>        <th class=\"col_heading level0 col2\" >Number of Purchases</th>        <th class=\"col_heading level0 col3\" >Total Revenue</th>    </tr></thead><tbody>\n",
       "                <tr>\n",
       "                                <td id=\"T_eada4694_1ebe_11ea_9d21_144f8aa851c8row0_col0\" class=\"data row0 col0\" >183</td>\n",
       "                        <td id=\"T_eada4694_1ebe_11ea_9d21_144f8aa851c8row0_col1\" class=\"data row0 col1\" >$3.05</td>\n",
       "                        <td id=\"T_eada4694_1ebe_11ea_9d21_144f8aa851c8row0_col2\" class=\"data row0 col2\" >780</td>\n",
       "                        <td id=\"T_eada4694_1ebe_11ea_9d21_144f8aa851c8row0_col3\" class=\"data row0 col3\" >$2,379.77</td>\n",
       "            </tr>\n",
       "    </tbody></table>"
      ],
      "text/plain": [
       "<pandas.io.formats.style.Styler at 0x283a321cc88>"
      ]
     },
     "execution_count": 7,
     "metadata": {},
     "output_type": "execute_result"
    }
   ],
   "source": [
    "#Run basic calculations to obtain number of unique items, average price, etc.\n",
    "\n",
    "uniqueItems = len(item_sales_df['Item ID'].unique())\n",
    "averagePrice = item_sales_df['Price'].mean()\n",
    "purchaseCount = item_sales_df['Item ID'].count()\n",
    "totalRevenue = item_sales_df['Price'].sum()\n",
    "results_df = pd.DataFrame({'Number of Unique Items':[uniqueItems],'Average Price':[averagePrice], 'Number of Purchases':[purchaseCount], 'Total Revenue':[totalRevenue]})\n",
    "\n",
    "results_df['Average Price'] = results_df['Average Price'].map('${:,.2f}'.format)\n",
    "results_df['Total Revenue'] = results_df['Total Revenue'].map('${:,.2f}'.format)\n",
    "\n",
    "\n",
    "\n",
    "styles = [\n",
    "    dict(selector=\"th\", props=[(\"font-size\", \"150%\"),\n",
    "                               (\"text-align\", \"center\")]),\n",
    "    dict(selector=\"caption\", props=[(\"caption-side\", \"bottom\")])\n",
    "]\n",
    "html = (results_df.style.hide_index().set_table_styles(styles))\n",
    "html"
   ]
  },
  {
   "cell_type": "markdown",
   "metadata": {},
   "source": [
    "## Gender Demographics\n",
    "* Percentage and Count of Male Players\n",
    "* Percentage and Count of Female Players\n",
    "* Percentage and Count of Other / Non-Disclosed"
   ]
  },
  {
   "cell_type": "code",
   "execution_count": 8,
   "metadata": {},
   "outputs": [
    {
     "data": {
      "text/html": [
       "<style  type=\"text/css\" >\n",
       "    #T_ecf7fd22_1ebe_11ea_ba49_144f8aa851c8 th {\n",
       "          font-size: 150%;\n",
       "          text-align: center;\n",
       "    }    #T_ecf7fd22_1ebe_11ea_ba49_144f8aa851c8 caption {\n",
       "          caption-side: bottom;\n",
       "    }</style><table id=\"T_ecf7fd22_1ebe_11ea_ba49_144f8aa851c8\" ><thead>    <tr>        <th class=\"col_heading level0 col0\" >Total Count</th>        <th class=\"col_heading level0 col1\" >Percentage of Players</th>    </tr></thead><tbody>\n",
       "                <tr>\n",
       "                                <td id=\"T_ecf7fd22_1ebe_11ea_ba49_144f8aa851c8row0_col0\" class=\"data row0 col0\" >484</td>\n",
       "                        <td id=\"T_ecf7fd22_1ebe_11ea_ba49_144f8aa851c8row0_col1\" class=\"data row0 col1\" >84.03%</td>\n",
       "            </tr>\n",
       "            <tr>\n",
       "                                <td id=\"T_ecf7fd22_1ebe_11ea_ba49_144f8aa851c8row1_col0\" class=\"data row1 col0\" >81</td>\n",
       "                        <td id=\"T_ecf7fd22_1ebe_11ea_ba49_144f8aa851c8row1_col1\" class=\"data row1 col1\" >14.06%</td>\n",
       "            </tr>\n",
       "            <tr>\n",
       "                                <td id=\"T_ecf7fd22_1ebe_11ea_ba49_144f8aa851c8row2_col0\" class=\"data row2 col0\" >11</td>\n",
       "                        <td id=\"T_ecf7fd22_1ebe_11ea_ba49_144f8aa851c8row2_col1\" class=\"data row2 col1\" >1.91%</td>\n",
       "            </tr>\n",
       "    </tbody></table>"
      ],
      "text/plain": [
       "<pandas.io.formats.style.Styler at 0x283a34dd518>"
      ]
     },
     "execution_count": 8,
     "metadata": {},
     "output_type": "execute_result"
    }
   ],
   "source": [
    "user_gender_df = purchase_data[['SN', 'Gender']].copy().drop_duplicates(['SN','Gender'])\n",
    "maleTotal = user_gender_df.Gender.str.contains(\"Male\").sum()\n",
    "femaleTotal = user_gender_df.Gender.str.contains(\"Female\").sum()\n",
    "otherTotal = totalPlayers - (maleTotal + femaleTotal)\n",
    "malePercentage = (maleTotal/totalPlayers)\n",
    "femalePercentage = (femaleTotal/totalPlayers) \n",
    "otherPercentage = (otherTotal/totalPlayers) \n",
    "\n",
    "\n",
    "# initialise data of lists. \n",
    "data = {'Total Count':[maleTotal, femaleTotal, otherTotal], 'Percentage of Players':[\"{0:.2%}\".format(malePercentage), \"{0:.2%}\".format(femalePercentage), \"{0:.2%}\".format(otherPercentage)]} \n",
    "  \n",
    "# Creates pandas DataFrame. \n",
    "gender_df = pd.DataFrame(data, index =['Male', 'Female', 'Other / Non-Disclosed']) \n",
    "  \n",
    "# print the data \n",
    "html = (gender_df.style.hide_index().set_table_styles(styles))\n",
    "html\n"
   ]
  },
  {
   "cell_type": "markdown",
   "metadata": {},
   "source": [
    "## Purchasing Analysis (Gender)\n",
    "* Run basic calculations to obtain purchase count, avg. purchase price, avg. purchase total per person etc. by gender\n",
    "* Create a summary data frame to hold the results\n",
    "* Optional: give the displayed data cleaner formatting\n",
    "* Display the summary data frame"
   ]
  },
  {
   "cell_type": "code",
   "execution_count": 9,
   "metadata": {},
   "outputs": [
    {
     "data": {
      "text/html": [
       "<style  type=\"text/css\" >\n",
       "    #T_ee7fa878_1ebe_11ea_aa9c_144f8aa851c8 th {\n",
       "          font-size: 150%;\n",
       "          text-align: center;\n",
       "    }    #T_ee7fa878_1ebe_11ea_aa9c_144f8aa851c8 caption {\n",
       "          caption-side: bottom;\n",
       "    }</style><table id=\"T_ee7fa878_1ebe_11ea_aa9c_144f8aa851c8\" ><thead>    <tr>        <th class=\"blank level0\" ></th>        <th class=\"col_heading level0 col0\" >Purchase Count</th>        <th class=\"col_heading level0 col1\" >Average Purchase Price</th>        <th class=\"col_heading level0 col2\" >Total Purchase Value</th>        <th class=\"col_heading level0 col3\" >Avg Total Purchase per Person</th>    </tr>    <tr>        <th class=\"index_name level0\" >Gender</th>        <th class=\"blank\" ></th>        <th class=\"blank\" ></th>        <th class=\"blank\" ></th>        <th class=\"blank\" ></th>    </tr></thead><tbody>\n",
       "                <tr>\n",
       "                        <th id=\"T_ee7fa878_1ebe_11ea_aa9c_144f8aa851c8level0_row0\" class=\"row_heading level0 row0\" >Female</th>\n",
       "                        <td id=\"T_ee7fa878_1ebe_11ea_aa9c_144f8aa851c8row0_col0\" class=\"data row0 col0\" >113</td>\n",
       "                        <td id=\"T_ee7fa878_1ebe_11ea_aa9c_144f8aa851c8row0_col1\" class=\"data row0 col1\" >$3.20</td>\n",
       "                        <td id=\"T_ee7fa878_1ebe_11ea_aa9c_144f8aa851c8row0_col2\" class=\"data row0 col2\" >$361.94</td>\n",
       "                        <td id=\"T_ee7fa878_1ebe_11ea_aa9c_144f8aa851c8row0_col3\" class=\"data row0 col3\" >$3.20</td>\n",
       "            </tr>\n",
       "            <tr>\n",
       "                        <th id=\"T_ee7fa878_1ebe_11ea_aa9c_144f8aa851c8level0_row1\" class=\"row_heading level0 row1\" >Male</th>\n",
       "                        <td id=\"T_ee7fa878_1ebe_11ea_aa9c_144f8aa851c8row1_col0\" class=\"data row1 col0\" >652</td>\n",
       "                        <td id=\"T_ee7fa878_1ebe_11ea_aa9c_144f8aa851c8row1_col1\" class=\"data row1 col1\" >$3.02</td>\n",
       "                        <td id=\"T_ee7fa878_1ebe_11ea_aa9c_144f8aa851c8row1_col2\" class=\"data row1 col2\" >$1,967.64</td>\n",
       "                        <td id=\"T_ee7fa878_1ebe_11ea_aa9c_144f8aa851c8row1_col3\" class=\"data row1 col3\" >$3.02</td>\n",
       "            </tr>\n",
       "            <tr>\n",
       "                        <th id=\"T_ee7fa878_1ebe_11ea_aa9c_144f8aa851c8level0_row2\" class=\"row_heading level0 row2\" >Other / Non-Disclosed</th>\n",
       "                        <td id=\"T_ee7fa878_1ebe_11ea_aa9c_144f8aa851c8row2_col0\" class=\"data row2 col0\" >15</td>\n",
       "                        <td id=\"T_ee7fa878_1ebe_11ea_aa9c_144f8aa851c8row2_col1\" class=\"data row2 col1\" >$3.35</td>\n",
       "                        <td id=\"T_ee7fa878_1ebe_11ea_aa9c_144f8aa851c8row2_col2\" class=\"data row2 col2\" >$50.19</td>\n",
       "                        <td id=\"T_ee7fa878_1ebe_11ea_aa9c_144f8aa851c8row2_col3\" class=\"data row2 col3\" >$3.35</td>\n",
       "            </tr>\n",
       "    </tbody></table>"
      ],
      "text/plain": [
       "<pandas.io.formats.style.Styler at 0x283a37d74a8>"
      ]
     },
     "execution_count": 9,
     "metadata": {},
     "output_type": "execute_result"
    }
   ],
   "source": [
    "#Get a dataframe of grouped by gender    \n",
    "genderPurchases_df = purchase_data.groupby([\"Gender\"]).sum()\n",
    "price_s = genderPurchases_df['Price']\n",
    "#Format the price column\n",
    "genderPurchases_df['Total Purchase Value'] = genderPurchases_df['Price'].map('${:,.2f}'.format).rename(columns={'Price': 'Total Purchase Value'})\n",
    "\n",
    "#genderPurchases_df\n",
    "#Get a series of total purchases by gender and add to the dataframe as Purchase Count\n",
    "genderPurchases_df[\"Purchase Count\"] = purchase_data.groupby([\"Gender\"]).count()[\"Price\"]\n",
    "#genderPurchases_df\n",
    "# Get a series of mean purchase price by gender and add to the dataframe \n",
    "genderPurchases_df[\"Average Purchase Price\"] = purchase_data.groupby([\"Gender\"]).mean()[\"Price\"].map(\"${:.2f}\".format)\n",
    "genderPurchases_df[\"Avg Total Purchase per Person\"] = price_s /genderPurchases_df[\"Purchase Count\"]\n",
    "genderPurchases_df[\"Avg Total Purchase per Person\"] = genderPurchases_df[\"Avg Total Purchase per Person\"].map(\"${:.2f}\".format)\n",
    "\n",
    "genderPurchases_df.drop(columns=['Age', 'Price','Item ID', 'Purchase ID' ], axis=1, inplace=True)\n",
    "genderPurchases_df = genderPurchases_df[['Purchase Count','Average Purchase Price','Total Purchase Value','Avg Total Purchase per Person']]\n",
    "genderPurchases_df\n",
    "html = (genderPurchases_df.style.set_table_styles(styles))\n",
    "html"
   ]
  },
  {
   "cell_type": "markdown",
   "metadata": {},
   "source": [
    "## Age Demographics\n",
    "\n",
    "* Establish bins for ages\n",
    "* Categorize the existing players using the age bins. Hint: use pd.cut()\n",
    "* Calculate the numbers and percentages by age group\n",
    "* Create a summary data frame to hold the results\n",
    "* Optional: round the percentage column to two decimal points\n",
    "* Display Age Demographics Table"
   ]
  },
  {
   "cell_type": "code",
   "execution_count": 34,
   "metadata": {},
   "outputs": [
    {
     "data": {
      "text/html": [
       "<style  type=\"text/css\" >\n",
       "    #T_b5ba1e18_1ec2_11ea_8d61_144f8aa851c8 th {\n",
       "          font-size: 150%;\n",
       "          text-align: center;\n",
       "    }    #T_b5ba1e18_1ec2_11ea_8d61_144f8aa851c8 caption {\n",
       "          caption-side: bottom;\n",
       "    }</style><table id=\"T_b5ba1e18_1ec2_11ea_8d61_144f8aa851c8\" ><thead>    <tr>        <th class=\"col_heading level0 col0\" >Age Group</th>        <th class=\"col_heading level0 col1\" >Total Count</th>        <th class=\"col_heading level0 col2\" >Percentage of Players</th>    </tr></thead><tbody>\n",
       "                <tr>\n",
       "                                <td id=\"T_b5ba1e18_1ec2_11ea_8d61_144f8aa851c8row0_col0\" class=\"data row0 col0\" ><10</td>\n",
       "                        <td id=\"T_b5ba1e18_1ec2_11ea_8d61_144f8aa851c8row0_col1\" class=\"data row0 col1\" >17</td>\n",
       "                        <td id=\"T_b5ba1e18_1ec2_11ea_8d61_144f8aa851c8row0_col2\" class=\"data row0 col2\" >0.0295139</td>\n",
       "            </tr>\n",
       "            <tr>\n",
       "                                <td id=\"T_b5ba1e18_1ec2_11ea_8d61_144f8aa851c8row1_col0\" class=\"data row1 col0\" >10-14</td>\n",
       "                        <td id=\"T_b5ba1e18_1ec2_11ea_8d61_144f8aa851c8row1_col1\" class=\"data row1 col1\" >22</td>\n",
       "                        <td id=\"T_b5ba1e18_1ec2_11ea_8d61_144f8aa851c8row1_col2\" class=\"data row1 col2\" >0.0381944</td>\n",
       "            </tr>\n",
       "            <tr>\n",
       "                                <td id=\"T_b5ba1e18_1ec2_11ea_8d61_144f8aa851c8row2_col0\" class=\"data row2 col0\" >15-19</td>\n",
       "                        <td id=\"T_b5ba1e18_1ec2_11ea_8d61_144f8aa851c8row2_col1\" class=\"data row2 col1\" >107</td>\n",
       "                        <td id=\"T_b5ba1e18_1ec2_11ea_8d61_144f8aa851c8row2_col2\" class=\"data row2 col2\" >0.185764</td>\n",
       "            </tr>\n",
       "            <tr>\n",
       "                                <td id=\"T_b5ba1e18_1ec2_11ea_8d61_144f8aa851c8row3_col0\" class=\"data row3 col0\" >20-24</td>\n",
       "                        <td id=\"T_b5ba1e18_1ec2_11ea_8d61_144f8aa851c8row3_col1\" class=\"data row3 col1\" >258</td>\n",
       "                        <td id=\"T_b5ba1e18_1ec2_11ea_8d61_144f8aa851c8row3_col2\" class=\"data row3 col2\" >0.447917</td>\n",
       "            </tr>\n",
       "            <tr>\n",
       "                                <td id=\"T_b5ba1e18_1ec2_11ea_8d61_144f8aa851c8row4_col0\" class=\"data row4 col0\" >25-29</td>\n",
       "                        <td id=\"T_b5ba1e18_1ec2_11ea_8d61_144f8aa851c8row4_col1\" class=\"data row4 col1\" >77</td>\n",
       "                        <td id=\"T_b5ba1e18_1ec2_11ea_8d61_144f8aa851c8row4_col2\" class=\"data row4 col2\" >0.133681</td>\n",
       "            </tr>\n",
       "            <tr>\n",
       "                                <td id=\"T_b5ba1e18_1ec2_11ea_8d61_144f8aa851c8row5_col0\" class=\"data row5 col0\" >30-34</td>\n",
       "                        <td id=\"T_b5ba1e18_1ec2_11ea_8d61_144f8aa851c8row5_col1\" class=\"data row5 col1\" >52</td>\n",
       "                        <td id=\"T_b5ba1e18_1ec2_11ea_8d61_144f8aa851c8row5_col2\" class=\"data row5 col2\" >0.0902778</td>\n",
       "            </tr>\n",
       "            <tr>\n",
       "                                <td id=\"T_b5ba1e18_1ec2_11ea_8d61_144f8aa851c8row6_col0\" class=\"data row6 col0\" >35-39</td>\n",
       "                        <td id=\"T_b5ba1e18_1ec2_11ea_8d61_144f8aa851c8row6_col1\" class=\"data row6 col1\" >31</td>\n",
       "                        <td id=\"T_b5ba1e18_1ec2_11ea_8d61_144f8aa851c8row6_col2\" class=\"data row6 col2\" >0.0538194</td>\n",
       "            </tr>\n",
       "            <tr>\n",
       "                                <td id=\"T_b5ba1e18_1ec2_11ea_8d61_144f8aa851c8row7_col0\" class=\"data row7 col0\" >40+</td>\n",
       "                        <td id=\"T_b5ba1e18_1ec2_11ea_8d61_144f8aa851c8row7_col1\" class=\"data row7 col1\" >12</td>\n",
       "                        <td id=\"T_b5ba1e18_1ec2_11ea_8d61_144f8aa851c8row7_col2\" class=\"data row7 col2\" >0.0208333</td>\n",
       "            </tr>\n",
       "    </tbody></table>"
      ],
      "text/plain": [
       "<pandas.io.formats.style.Styler at 0x283a3831748>"
      ]
     },
     "execution_count": 34,
     "metadata": {},
     "output_type": "execute_result"
    }
   ],
   "source": [
    "# Define bins \n",
    "bins = [0, 9, 14, 19, 24, 29, 34, 39, 999]\n",
    "# Create labels for these bins\n",
    "group_labels = ['<10','10-14','15-19','20-24','25-29','30-34','35-39','40+']\n",
    "\n",
    "age_df  = purchase_data.copy().drop_duplicates(['SN','Age'])\n",
    "age_df[\"Age Group\"] = pd.cut(age_df[\"Age\"], bins, labels=group_labels)\n",
    "\n",
    "# Create a GroupBy object based upon \"View Group\"\n",
    "age_group = age_df.groupby( [ \"Age Group\"] , as_index=False).count()\n",
    "# Rename Columns\n",
    "age_group = age_group[[\"Age Group\", \"SN\"]].rename(columns={'SN': 'Total Count'}) \n",
    "\n",
    "# Get the Summation Column\n",
    "age_group[\"Percentage of Players\"] =age_group['Total Count'] / age_group['Total Count'].sum()\n",
    "\n",
    "html = (age_group.style.hide_index().set_table_styles(styles))\n",
    "html"
   ]
  },
  {
   "cell_type": "code",
   "execution_count": 11,
   "metadata": {},
   "outputs": [
    {
     "data": {
      "text/html": [
       "<style  type=\"text/css\" >\n",
       "    #T_f3e2cc28_1ebe_11ea_aec8_144f8aa851c8 th {\n",
       "          font-size: 150%;\n",
       "          text-align: center;\n",
       "    }    #T_f3e2cc28_1ebe_11ea_aec8_144f8aa851c8 caption {\n",
       "          caption-side: bottom;\n",
       "    }</style><table id=\"T_f3e2cc28_1ebe_11ea_aec8_144f8aa851c8\" ><thead>    <tr>        <th class=\"blank level0\" ></th>        <th class=\"col_heading level0 col0\" >Purchase Count</th>        <th class=\"col_heading level0 col1\" >Average Purchase Price</th>        <th class=\"col_heading level0 col2\" >Total Purchase Value</th>    </tr>    <tr>        <th class=\"index_name level0\" >Age Group</th>        <th class=\"blank\" ></th>        <th class=\"blank\" ></th>        <th class=\"blank\" ></th>    </tr></thead><tbody>\n",
       "                <tr>\n",
       "                        <th id=\"T_f3e2cc28_1ebe_11ea_aec8_144f8aa851c8level0_row0\" class=\"row_heading level0 row0\" >10</th>\n",
       "                        <td id=\"T_f3e2cc28_1ebe_11ea_aec8_144f8aa851c8row0_col0\" class=\"data row0 col0\" >17</td>\n",
       "                        <td id=\"T_f3e2cc28_1ebe_11ea_aec8_144f8aa851c8row0_col1\" class=\"data row0 col1\" >$3.39</td>\n",
       "                        <td id=\"T_f3e2cc28_1ebe_11ea_aec8_144f8aa851c8row0_col2\" class=\"data row0 col2\" >$57.63</td>\n",
       "            </tr>\n",
       "            <tr>\n",
       "                        <th id=\"T_f3e2cc28_1ebe_11ea_aec8_144f8aa851c8level0_row1\" class=\"row_heading level0 row1\" >10-14</th>\n",
       "                        <td id=\"T_f3e2cc28_1ebe_11ea_aec8_144f8aa851c8row1_col0\" class=\"data row1 col0\" >22</td>\n",
       "                        <td id=\"T_f3e2cc28_1ebe_11ea_aec8_144f8aa851c8row1_col1\" class=\"data row1 col1\" >$3.07</td>\n",
       "                        <td id=\"T_f3e2cc28_1ebe_11ea_aec8_144f8aa851c8row1_col2\" class=\"data row1 col2\" >$67.64</td>\n",
       "            </tr>\n",
       "            <tr>\n",
       "                        <th id=\"T_f3e2cc28_1ebe_11ea_aec8_144f8aa851c8level0_row2\" class=\"row_heading level0 row2\" >15-19</th>\n",
       "                        <td id=\"T_f3e2cc28_1ebe_11ea_aec8_144f8aa851c8row2_col0\" class=\"data row2 col0\" >107</td>\n",
       "                        <td id=\"T_f3e2cc28_1ebe_11ea_aec8_144f8aa851c8row2_col1\" class=\"data row2 col1\" >$3.10</td>\n",
       "                        <td id=\"T_f3e2cc28_1ebe_11ea_aec8_144f8aa851c8row2_col2\" class=\"data row2 col2\" >$331.88</td>\n",
       "            </tr>\n",
       "            <tr>\n",
       "                        <th id=\"T_f3e2cc28_1ebe_11ea_aec8_144f8aa851c8level0_row3\" class=\"row_heading level0 row3\" >20-24</th>\n",
       "                        <td id=\"T_f3e2cc28_1ebe_11ea_aec8_144f8aa851c8row3_col0\" class=\"data row3 col0\" >258</td>\n",
       "                        <td id=\"T_f3e2cc28_1ebe_11ea_aec8_144f8aa851c8row3_col1\" class=\"data row3 col1\" >$3.06</td>\n",
       "                        <td id=\"T_f3e2cc28_1ebe_11ea_aec8_144f8aa851c8row3_col2\" class=\"data row3 col2\" >$790.39</td>\n",
       "            </tr>\n",
       "            <tr>\n",
       "                        <th id=\"T_f3e2cc28_1ebe_11ea_aec8_144f8aa851c8level0_row4\" class=\"row_heading level0 row4\" >25-29</th>\n",
       "                        <td id=\"T_f3e2cc28_1ebe_11ea_aec8_144f8aa851c8row4_col0\" class=\"data row4 col0\" >77</td>\n",
       "                        <td id=\"T_f3e2cc28_1ebe_11ea_aec8_144f8aa851c8row4_col1\" class=\"data row4 col1\" >$2.91</td>\n",
       "                        <td id=\"T_f3e2cc28_1ebe_11ea_aec8_144f8aa851c8row4_col2\" class=\"data row4 col2\" >$223.93</td>\n",
       "            </tr>\n",
       "            <tr>\n",
       "                        <th id=\"T_f3e2cc28_1ebe_11ea_aec8_144f8aa851c8level0_row5\" class=\"row_heading level0 row5\" >30-34</th>\n",
       "                        <td id=\"T_f3e2cc28_1ebe_11ea_aec8_144f8aa851c8row5_col0\" class=\"data row5 col0\" >52</td>\n",
       "                        <td id=\"T_f3e2cc28_1ebe_11ea_aec8_144f8aa851c8row5_col1\" class=\"data row5 col1\" >$2.92</td>\n",
       "                        <td id=\"T_f3e2cc28_1ebe_11ea_aec8_144f8aa851c8row5_col2\" class=\"data row5 col2\" >$151.92</td>\n",
       "            </tr>\n",
       "            <tr>\n",
       "                        <th id=\"T_f3e2cc28_1ebe_11ea_aec8_144f8aa851c8level0_row6\" class=\"row_heading level0 row6\" >35-39</th>\n",
       "                        <td id=\"T_f3e2cc28_1ebe_11ea_aec8_144f8aa851c8row6_col0\" class=\"data row6 col0\" >31</td>\n",
       "                        <td id=\"T_f3e2cc28_1ebe_11ea_aec8_144f8aa851c8row6_col1\" class=\"data row6 col1\" >$3.51</td>\n",
       "                        <td id=\"T_f3e2cc28_1ebe_11ea_aec8_144f8aa851c8row6_col2\" class=\"data row6 col2\" >$108.81</td>\n",
       "            </tr>\n",
       "            <tr>\n",
       "                        <th id=\"T_f3e2cc28_1ebe_11ea_aec8_144f8aa851c8level0_row7\" class=\"row_heading level0 row7\" >40+</th>\n",
       "                        <td id=\"T_f3e2cc28_1ebe_11ea_aec8_144f8aa851c8row7_col0\" class=\"data row7 col0\" >12</td>\n",
       "                        <td id=\"T_f3e2cc28_1ebe_11ea_aec8_144f8aa851c8row7_col1\" class=\"data row7 col1\" >$3.04</td>\n",
       "                        <td id=\"T_f3e2cc28_1ebe_11ea_aec8_144f8aa851c8row7_col2\" class=\"data row7 col2\" >$36.45</td>\n",
       "            </tr>\n",
       "    </tbody></table>"
      ],
      "text/plain": [
       "<pandas.io.formats.style.Styler at 0x283a350a6a0>"
      ]
     },
     "execution_count": 11,
     "metadata": {},
     "output_type": "execute_result"
    }
   ],
   "source": [
    "\n",
    "\n",
    "\n",
    "# # Create a GroupBy object based upon \"View Group\"\n",
    "# age_data = purchase_data.groupby([\"Age\"]).sum()\n",
    "\n",
    "# # Find how many rows fall into each bin\n",
    "# age_data.head()\n",
    "age_df  = purchase_data.copy().drop_duplicates(['SN','Age'])\n",
    "age_df[\"Age Group\"] = pd.cut(age_df[\"Age\"], bins, labels=group_labels)\n",
    "\n",
    "\n",
    "age_df =age_df.groupby([\"Age Group\"])\n",
    "age_count = age_df.size()\n",
    "age_avg_price = age_df[\"Price\"].mean().map(\"${:.2f}\".format)\n",
    "age_tot_value = age_df[\"Price\"].sum().map(\"${:.2f}\".format)\n",
    "\n",
    "age_demographics = pd.DataFrame({\"Purchase Count\":age_count,\n",
    "                             \"Average Purchase Price\": age_avg_price,\n",
    "                             \"Total Purchase Value\": age_tot_value})\n",
    "\n",
    "age_demographics = age_demographics[[\"Purchase Count\",\"Average Purchase Price\", \"Total Purchase Value\" ]]\n",
    "\n",
    "\n",
    "html = (age_demographics.style.set_table_styles(styles))\n",
    "html"
   ]
  },
  {
   "cell_type": "code",
   "execution_count": null,
   "metadata": {},
   "outputs": [],
   "source": []
  }
 ],
 "metadata": {
  "kernelspec": {
   "display_name": "Python 3",
   "language": "python",
   "name": "python3"
  },
  "language_info": {
   "codemirror_mode": {
    "name": "ipython",
    "version": 3
   },
   "file_extension": ".py",
   "mimetype": "text/x-python",
   "name": "python",
   "nbconvert_exporter": "python",
   "pygments_lexer": "ipython3",
   "version": "3.7.1"
  }
 },
 "nbformat": 4,
 "nbformat_minor": 4
}
